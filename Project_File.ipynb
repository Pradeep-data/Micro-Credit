{
  "nbformat": 4,
  "nbformat_minor": 0,
  "metadata": {
    "colab": {
      "name": "Micro.ipynb",
      "provenance": [],
      "collapsed_sections": []
    },
    "kernelspec": {
      "name": "python3",
      "display_name": "Python 3"
    }
  },
  "cells": [
    {
      "cell_type": "code",
      "metadata": {
        "id": "mVR_r1hVEPCt"
      },
      "source": [
        "#importing the required metrics and performance metrics\n",
        "import pandas as pd\n",
        "import numpy as np\n",
        "import matplotlib.pyplot as plt\n",
        "import seaborn as sns\n",
        "from sklearn.model_selection import train_test_split,cross_val_score,GridSearchCV\n",
        "from sklearn.metrics import accuracy_score,classification_report,confusion_matrix,roc_auc_score,roc_curve\n",
        "\n",
        "#importing warnings to suppress it wherever required\n",
        "import warnings\n",
        "warnings.filterwarnings('ignore')"
      ],
      "execution_count": 32,
      "outputs": []
    },
    {
      "cell_type": "code",
      "metadata": {
        "id": "a_gw6Q3dE4tl",
        "outputId": "1916220c-f413-4bf5-e4b1-c46729747b3f",
        "colab": {
          "base_uri": "https://localhost:8080/",
          "height": 326
        }
      },
      "source": [
        "#importing data file from file folder\n",
        "s=pd.read_csv('/content/drive/My Drive/Micro credit/Data file.csv')\n",
        "\n",
        "#potting the data in dataframe\n",
        "credit=pd.DataFrame(s)\n",
        "credit.head()"
      ],
      "execution_count": 33,
      "outputs": [
        {
          "output_type": "execute_result",
          "data": {
            "text/html": [
              "<div>\n",
              "<style scoped>\n",
              "    .dataframe tbody tr th:only-of-type {\n",
              "        vertical-align: middle;\n",
              "    }\n",
              "\n",
              "    .dataframe tbody tr th {\n",
              "        vertical-align: top;\n",
              "    }\n",
              "\n",
              "    .dataframe thead th {\n",
              "        text-align: right;\n",
              "    }\n",
              "</style>\n",
              "<table border=\"1\" class=\"dataframe\">\n",
              "  <thead>\n",
              "    <tr style=\"text-align: right;\">\n",
              "      <th></th>\n",
              "      <th>Unnamed: 0</th>\n",
              "      <th>label</th>\n",
              "      <th>msisdn</th>\n",
              "      <th>aon</th>\n",
              "      <th>daily_decr30</th>\n",
              "      <th>daily_decr90</th>\n",
              "      <th>rental30</th>\n",
              "      <th>rental90</th>\n",
              "      <th>last_rech_date_ma</th>\n",
              "      <th>last_rech_date_da</th>\n",
              "      <th>last_rech_amt_ma</th>\n",
              "      <th>cnt_ma_rech30</th>\n",
              "      <th>fr_ma_rech30</th>\n",
              "      <th>sumamnt_ma_rech30</th>\n",
              "      <th>medianamnt_ma_rech30</th>\n",
              "      <th>medianmarechprebal30</th>\n",
              "      <th>cnt_ma_rech90</th>\n",
              "      <th>fr_ma_rech90</th>\n",
              "      <th>sumamnt_ma_rech90</th>\n",
              "      <th>medianamnt_ma_rech90</th>\n",
              "      <th>medianmarechprebal90</th>\n",
              "      <th>cnt_da_rech30</th>\n",
              "      <th>fr_da_rech30</th>\n",
              "      <th>cnt_da_rech90</th>\n",
              "      <th>fr_da_rech90</th>\n",
              "      <th>cnt_loans30</th>\n",
              "      <th>amnt_loans30</th>\n",
              "      <th>maxamnt_loans30</th>\n",
              "      <th>medianamnt_loans30</th>\n",
              "      <th>cnt_loans90</th>\n",
              "      <th>amnt_loans90</th>\n",
              "      <th>maxamnt_loans90</th>\n",
              "      <th>medianamnt_loans90</th>\n",
              "      <th>payback30</th>\n",
              "      <th>payback90</th>\n",
              "      <th>pcircle</th>\n",
              "      <th>pdate</th>\n",
              "    </tr>\n",
              "  </thead>\n",
              "  <tbody>\n",
              "    <tr>\n",
              "      <th>0</th>\n",
              "      <td>1</td>\n",
              "      <td>0</td>\n",
              "      <td>21408I70789</td>\n",
              "      <td>272.0</td>\n",
              "      <td>3055.050000</td>\n",
              "      <td>3065.150000</td>\n",
              "      <td>220.13</td>\n",
              "      <td>260.13</td>\n",
              "      <td>2.0</td>\n",
              "      <td>0.0</td>\n",
              "      <td>1539</td>\n",
              "      <td>2</td>\n",
              "      <td>21.0</td>\n",
              "      <td>3078.0</td>\n",
              "      <td>1539.0</td>\n",
              "      <td>7.50</td>\n",
              "      <td>2</td>\n",
              "      <td>21</td>\n",
              "      <td>3078</td>\n",
              "      <td>1539.0</td>\n",
              "      <td>7.50</td>\n",
              "      <td>0.0</td>\n",
              "      <td>0.0</td>\n",
              "      <td>0</td>\n",
              "      <td>0</td>\n",
              "      <td>2</td>\n",
              "      <td>12</td>\n",
              "      <td>6.0</td>\n",
              "      <td>0.0</td>\n",
              "      <td>2.0</td>\n",
              "      <td>12</td>\n",
              "      <td>6</td>\n",
              "      <td>0.0</td>\n",
              "      <td>29.000000</td>\n",
              "      <td>29.000000</td>\n",
              "      <td>UPW</td>\n",
              "      <td>2016-07-20</td>\n",
              "    </tr>\n",
              "    <tr>\n",
              "      <th>1</th>\n",
              "      <td>2</td>\n",
              "      <td>1</td>\n",
              "      <td>76462I70374</td>\n",
              "      <td>712.0</td>\n",
              "      <td>12122.000000</td>\n",
              "      <td>12124.750000</td>\n",
              "      <td>3691.26</td>\n",
              "      <td>3691.26</td>\n",
              "      <td>20.0</td>\n",
              "      <td>0.0</td>\n",
              "      <td>5787</td>\n",
              "      <td>1</td>\n",
              "      <td>0.0</td>\n",
              "      <td>5787.0</td>\n",
              "      <td>5787.0</td>\n",
              "      <td>61.04</td>\n",
              "      <td>1</td>\n",
              "      <td>0</td>\n",
              "      <td>5787</td>\n",
              "      <td>5787.0</td>\n",
              "      <td>61.04</td>\n",
              "      <td>0.0</td>\n",
              "      <td>0.0</td>\n",
              "      <td>0</td>\n",
              "      <td>0</td>\n",
              "      <td>1</td>\n",
              "      <td>12</td>\n",
              "      <td>12.0</td>\n",
              "      <td>0.0</td>\n",
              "      <td>1.0</td>\n",
              "      <td>12</td>\n",
              "      <td>12</td>\n",
              "      <td>0.0</td>\n",
              "      <td>0.000000</td>\n",
              "      <td>0.000000</td>\n",
              "      <td>UPW</td>\n",
              "      <td>2016-08-10</td>\n",
              "    </tr>\n",
              "    <tr>\n",
              "      <th>2</th>\n",
              "      <td>3</td>\n",
              "      <td>1</td>\n",
              "      <td>17943I70372</td>\n",
              "      <td>535.0</td>\n",
              "      <td>1398.000000</td>\n",
              "      <td>1398.000000</td>\n",
              "      <td>900.13</td>\n",
              "      <td>900.13</td>\n",
              "      <td>3.0</td>\n",
              "      <td>0.0</td>\n",
              "      <td>1539</td>\n",
              "      <td>1</td>\n",
              "      <td>0.0</td>\n",
              "      <td>1539.0</td>\n",
              "      <td>1539.0</td>\n",
              "      <td>66.32</td>\n",
              "      <td>1</td>\n",
              "      <td>0</td>\n",
              "      <td>1539</td>\n",
              "      <td>1539.0</td>\n",
              "      <td>66.32</td>\n",
              "      <td>0.0</td>\n",
              "      <td>0.0</td>\n",
              "      <td>0</td>\n",
              "      <td>0</td>\n",
              "      <td>1</td>\n",
              "      <td>6</td>\n",
              "      <td>6.0</td>\n",
              "      <td>0.0</td>\n",
              "      <td>1.0</td>\n",
              "      <td>6</td>\n",
              "      <td>6</td>\n",
              "      <td>0.0</td>\n",
              "      <td>0.000000</td>\n",
              "      <td>0.000000</td>\n",
              "      <td>UPW</td>\n",
              "      <td>2016-08-19</td>\n",
              "    </tr>\n",
              "    <tr>\n",
              "      <th>3</th>\n",
              "      <td>4</td>\n",
              "      <td>1</td>\n",
              "      <td>55773I70781</td>\n",
              "      <td>241.0</td>\n",
              "      <td>21.228000</td>\n",
              "      <td>21.228000</td>\n",
              "      <td>159.42</td>\n",
              "      <td>159.42</td>\n",
              "      <td>41.0</td>\n",
              "      <td>0.0</td>\n",
              "      <td>947</td>\n",
              "      <td>0</td>\n",
              "      <td>0.0</td>\n",
              "      <td>0.0</td>\n",
              "      <td>0.0</td>\n",
              "      <td>0.00</td>\n",
              "      <td>1</td>\n",
              "      <td>0</td>\n",
              "      <td>947</td>\n",
              "      <td>947.0</td>\n",
              "      <td>2.50</td>\n",
              "      <td>0.0</td>\n",
              "      <td>0.0</td>\n",
              "      <td>0</td>\n",
              "      <td>0</td>\n",
              "      <td>2</td>\n",
              "      <td>12</td>\n",
              "      <td>6.0</td>\n",
              "      <td>0.0</td>\n",
              "      <td>2.0</td>\n",
              "      <td>12</td>\n",
              "      <td>6</td>\n",
              "      <td>0.0</td>\n",
              "      <td>0.000000</td>\n",
              "      <td>0.000000</td>\n",
              "      <td>UPW</td>\n",
              "      <td>2016-06-06</td>\n",
              "    </tr>\n",
              "    <tr>\n",
              "      <th>4</th>\n",
              "      <td>5</td>\n",
              "      <td>1</td>\n",
              "      <td>03813I82730</td>\n",
              "      <td>947.0</td>\n",
              "      <td>150.619333</td>\n",
              "      <td>150.619333</td>\n",
              "      <td>1098.90</td>\n",
              "      <td>1098.90</td>\n",
              "      <td>4.0</td>\n",
              "      <td>0.0</td>\n",
              "      <td>2309</td>\n",
              "      <td>7</td>\n",
              "      <td>2.0</td>\n",
              "      <td>20029.0</td>\n",
              "      <td>2309.0</td>\n",
              "      <td>29.00</td>\n",
              "      <td>8</td>\n",
              "      <td>2</td>\n",
              "      <td>23496</td>\n",
              "      <td>2888.0</td>\n",
              "      <td>35.00</td>\n",
              "      <td>0.0</td>\n",
              "      <td>0.0</td>\n",
              "      <td>0</td>\n",
              "      <td>0</td>\n",
              "      <td>7</td>\n",
              "      <td>42</td>\n",
              "      <td>6.0</td>\n",
              "      <td>0.0</td>\n",
              "      <td>7.0</td>\n",
              "      <td>42</td>\n",
              "      <td>6</td>\n",
              "      <td>0.0</td>\n",
              "      <td>2.333333</td>\n",
              "      <td>2.333333</td>\n",
              "      <td>UPW</td>\n",
              "      <td>2016-06-22</td>\n",
              "    </tr>\n",
              "  </tbody>\n",
              "</table>\n",
              "</div>"
            ],
            "text/plain": [
              "   Unnamed: 0  label       msisdn  ...  payback90  pcircle       pdate\n",
              "0           1      0  21408I70789  ...  29.000000      UPW  2016-07-20\n",
              "1           2      1  76462I70374  ...   0.000000      UPW  2016-08-10\n",
              "2           3      1  17943I70372  ...   0.000000      UPW  2016-08-19\n",
              "3           4      1  55773I70781  ...   0.000000      UPW  2016-06-06\n",
              "4           5      1  03813I82730  ...   2.333333      UPW  2016-06-22\n",
              "\n",
              "[5 rows x 37 columns]"
            ]
          },
          "metadata": {
            "tags": []
          },
          "execution_count": 33
        }
      ]
    },
    {
      "cell_type": "code",
      "metadata": {
        "id": "8MCc3tJWGmOM",
        "outputId": "2abbda02-2f06-4a5e-de1e-10eb806d9cfa",
        "colab": {
          "base_uri": "https://localhost:8080/"
        }
      },
      "source": [
        "credit.shape"
      ],
      "execution_count": 34,
      "outputs": [
        {
          "output_type": "execute_result",
          "data": {
            "text/plain": [
              "(209593, 37)"
            ]
          },
          "metadata": {
            "tags": []
          },
          "execution_count": 34
        }
      ]
    },
    {
      "cell_type": "code",
      "metadata": {
        "id": "CFputcKfFBmP",
        "outputId": "6a2c51b4-914e-4a57-f7e1-b8f1bf636e72",
        "colab": {
          "base_uri": "https://localhost:8080/"
        }
      },
      "source": [
        "#getting info of each feature\n",
        "credit.info()"
      ],
      "execution_count": 35,
      "outputs": [
        {
          "output_type": "stream",
          "text": [
            "<class 'pandas.core.frame.DataFrame'>\n",
            "RangeIndex: 209593 entries, 0 to 209592\n",
            "Data columns (total 37 columns):\n",
            " #   Column                Non-Null Count   Dtype  \n",
            "---  ------                --------------   -----  \n",
            " 0   Unnamed: 0            209593 non-null  int64  \n",
            " 1   label                 209593 non-null  int64  \n",
            " 2   msisdn                209593 non-null  object \n",
            " 3   aon                   209593 non-null  float64\n",
            " 4   daily_decr30          209593 non-null  float64\n",
            " 5   daily_decr90          209593 non-null  float64\n",
            " 6   rental30              209593 non-null  float64\n",
            " 7   rental90              209593 non-null  float64\n",
            " 8   last_rech_date_ma     209593 non-null  float64\n",
            " 9   last_rech_date_da     209593 non-null  float64\n",
            " 10  last_rech_amt_ma      209593 non-null  int64  \n",
            " 11  cnt_ma_rech30         209593 non-null  int64  \n",
            " 12  fr_ma_rech30          209593 non-null  float64\n",
            " 13  sumamnt_ma_rech30     209593 non-null  float64\n",
            " 14  medianamnt_ma_rech30  209593 non-null  float64\n",
            " 15  medianmarechprebal30  209593 non-null  float64\n",
            " 16  cnt_ma_rech90         209593 non-null  int64  \n",
            " 17  fr_ma_rech90          209593 non-null  int64  \n",
            " 18  sumamnt_ma_rech90     209593 non-null  int64  \n",
            " 19  medianamnt_ma_rech90  209593 non-null  float64\n",
            " 20  medianmarechprebal90  209593 non-null  float64\n",
            " 21  cnt_da_rech30         209593 non-null  float64\n",
            " 22  fr_da_rech30          209593 non-null  float64\n",
            " 23  cnt_da_rech90         209593 non-null  int64  \n",
            " 24  fr_da_rech90          209593 non-null  int64  \n",
            " 25  cnt_loans30           209593 non-null  int64  \n",
            " 26  amnt_loans30          209593 non-null  int64  \n",
            " 27  maxamnt_loans30       209593 non-null  float64\n",
            " 28  medianamnt_loans30    209593 non-null  float64\n",
            " 29  cnt_loans90           209593 non-null  float64\n",
            " 30  amnt_loans90          209593 non-null  int64  \n",
            " 31  maxamnt_loans90       209593 non-null  int64  \n",
            " 32  medianamnt_loans90    209593 non-null  float64\n",
            " 33  payback30             209593 non-null  float64\n",
            " 34  payback90             209593 non-null  float64\n",
            " 35  pcircle               209593 non-null  object \n",
            " 36  pdate                 209593 non-null  object \n",
            "dtypes: float64(21), int64(13), object(3)\n",
            "memory usage: 59.2+ MB\n"
          ],
          "name": "stdout"
        }
      ]
    },
    {
      "cell_type": "markdown",
      "metadata": {
        "id": "am-M0qnvGX_T"
      },
      "source": [
        "It seems from the info that there is no presence of null values in the dataset"
      ]
    },
    {
      "cell_type": "code",
      "metadata": {
        "id": "6ZU_7UKwGUyD"
      },
      "source": [
        "#here we have to remove some of the columns that are not adding any value to the prediction such as unnamed\n",
        "#unnamed,msisdn are unique\n",
        "#pcircle has only one value throughout the data and date is not needed when we have previous 30 days and 90 days data\n",
        "credit.drop(['Unnamed: 0','msisdn','pcircle','pdate'],axis=1,inplace=True)"
      ],
      "execution_count": 36,
      "outputs": []
    },
    {
      "cell_type": "code",
      "metadata": {
        "id": "fZqgGK-wGsnj",
        "outputId": "6a00a312-3b47-4a0f-c334-c74ec8b2ae93",
        "colab": {
          "base_uri": "https://localhost:8080/"
        }
      },
      "source": [
        "#checking the data counts\n",
        "credit['label'].value_counts()"
      ],
      "execution_count": 37,
      "outputs": [
        {
          "output_type": "execute_result",
          "data": {
            "text/plain": [
              "1    183431\n",
              "0     26162\n",
              "Name: label, dtype: int64"
            ]
          },
          "metadata": {
            "tags": []
          },
          "execution_count": 37
        }
      ]
    },
    {
      "cell_type": "markdown",
      "metadata": {
        "id": "Gc22wmp3Gzwl"
      },
      "source": [
        "The ratio b/w label 1 and label 0 clearly shows that this is a imbalanced dataset"
      ]
    },
    {
      "cell_type": "markdown",
      "metadata": {
        "id": "w-ygHr9yzz3D"
      },
      "source": [
        "We have some of the feature that are in the form of indonesian currency,so lets convert it first to indian rupee to scale it all in same unit"
      ]
    },
    {
      "cell_type": "code",
      "metadata": {
        "id": "J0CMyhkDIjcn"
      },
      "source": [
        "ind=['daily_decr30','daily_decr90','last_rech_amt_ma','sumamnt_ma_rech30','medianamnt_ma_rech30','medianmarechprebal30']\n",
        "for i in ind:\n",
        "  credit[i] = 0.0052 *credit[i]"
      ],
      "execution_count": 38,
      "outputs": []
    },
    {
      "cell_type": "code",
      "metadata": {
        "id": "w2AMssuxKLME",
        "outputId": "4cf0911a-bed0-4736-c5ee-947d9ee49639",
        "colab": {
          "base_uri": "https://localhost:8080/",
          "height": 224
        }
      },
      "source": [
        "credit.head()"
      ],
      "execution_count": 39,
      "outputs": [
        {
          "output_type": "execute_result",
          "data": {
            "text/html": [
              "<div>\n",
              "<style scoped>\n",
              "    .dataframe tbody tr th:only-of-type {\n",
              "        vertical-align: middle;\n",
              "    }\n",
              "\n",
              "    .dataframe tbody tr th {\n",
              "        vertical-align: top;\n",
              "    }\n",
              "\n",
              "    .dataframe thead th {\n",
              "        text-align: right;\n",
              "    }\n",
              "</style>\n",
              "<table border=\"1\" class=\"dataframe\">\n",
              "  <thead>\n",
              "    <tr style=\"text-align: right;\">\n",
              "      <th></th>\n",
              "      <th>label</th>\n",
              "      <th>aon</th>\n",
              "      <th>daily_decr30</th>\n",
              "      <th>daily_decr90</th>\n",
              "      <th>rental30</th>\n",
              "      <th>rental90</th>\n",
              "      <th>last_rech_date_ma</th>\n",
              "      <th>last_rech_date_da</th>\n",
              "      <th>last_rech_amt_ma</th>\n",
              "      <th>cnt_ma_rech30</th>\n",
              "      <th>fr_ma_rech30</th>\n",
              "      <th>sumamnt_ma_rech30</th>\n",
              "      <th>medianamnt_ma_rech30</th>\n",
              "      <th>medianmarechprebal30</th>\n",
              "      <th>cnt_ma_rech90</th>\n",
              "      <th>fr_ma_rech90</th>\n",
              "      <th>sumamnt_ma_rech90</th>\n",
              "      <th>medianamnt_ma_rech90</th>\n",
              "      <th>medianmarechprebal90</th>\n",
              "      <th>cnt_da_rech30</th>\n",
              "      <th>fr_da_rech30</th>\n",
              "      <th>cnt_da_rech90</th>\n",
              "      <th>fr_da_rech90</th>\n",
              "      <th>cnt_loans30</th>\n",
              "      <th>amnt_loans30</th>\n",
              "      <th>maxamnt_loans30</th>\n",
              "      <th>medianamnt_loans30</th>\n",
              "      <th>cnt_loans90</th>\n",
              "      <th>amnt_loans90</th>\n",
              "      <th>maxamnt_loans90</th>\n",
              "      <th>medianamnt_loans90</th>\n",
              "      <th>payback30</th>\n",
              "      <th>payback90</th>\n",
              "    </tr>\n",
              "  </thead>\n",
              "  <tbody>\n",
              "    <tr>\n",
              "      <th>0</th>\n",
              "      <td>0</td>\n",
              "      <td>272.0</td>\n",
              "      <td>15.886260</td>\n",
              "      <td>15.938780</td>\n",
              "      <td>220.13</td>\n",
              "      <td>260.13</td>\n",
              "      <td>2.0</td>\n",
              "      <td>0.0</td>\n",
              "      <td>8.0028</td>\n",
              "      <td>2</td>\n",
              "      <td>21.0</td>\n",
              "      <td>16.0056</td>\n",
              "      <td>8.0028</td>\n",
              "      <td>0.039000</td>\n",
              "      <td>2</td>\n",
              "      <td>21</td>\n",
              "      <td>3078</td>\n",
              "      <td>1539.0</td>\n",
              "      <td>7.50</td>\n",
              "      <td>0.0</td>\n",
              "      <td>0.0</td>\n",
              "      <td>0</td>\n",
              "      <td>0</td>\n",
              "      <td>2</td>\n",
              "      <td>12</td>\n",
              "      <td>6.0</td>\n",
              "      <td>0.0</td>\n",
              "      <td>2.0</td>\n",
              "      <td>12</td>\n",
              "      <td>6</td>\n",
              "      <td>0.0</td>\n",
              "      <td>29.000000</td>\n",
              "      <td>29.000000</td>\n",
              "    </tr>\n",
              "    <tr>\n",
              "      <th>1</th>\n",
              "      <td>1</td>\n",
              "      <td>712.0</td>\n",
              "      <td>63.034400</td>\n",
              "      <td>63.048700</td>\n",
              "      <td>3691.26</td>\n",
              "      <td>3691.26</td>\n",
              "      <td>20.0</td>\n",
              "      <td>0.0</td>\n",
              "      <td>30.0924</td>\n",
              "      <td>1</td>\n",
              "      <td>0.0</td>\n",
              "      <td>30.0924</td>\n",
              "      <td>30.0924</td>\n",
              "      <td>0.317408</td>\n",
              "      <td>1</td>\n",
              "      <td>0</td>\n",
              "      <td>5787</td>\n",
              "      <td>5787.0</td>\n",
              "      <td>61.04</td>\n",
              "      <td>0.0</td>\n",
              "      <td>0.0</td>\n",
              "      <td>0</td>\n",
              "      <td>0</td>\n",
              "      <td>1</td>\n",
              "      <td>12</td>\n",
              "      <td>12.0</td>\n",
              "      <td>0.0</td>\n",
              "      <td>1.0</td>\n",
              "      <td>12</td>\n",
              "      <td>12</td>\n",
              "      <td>0.0</td>\n",
              "      <td>0.000000</td>\n",
              "      <td>0.000000</td>\n",
              "    </tr>\n",
              "    <tr>\n",
              "      <th>2</th>\n",
              "      <td>1</td>\n",
              "      <td>535.0</td>\n",
              "      <td>7.269600</td>\n",
              "      <td>7.269600</td>\n",
              "      <td>900.13</td>\n",
              "      <td>900.13</td>\n",
              "      <td>3.0</td>\n",
              "      <td>0.0</td>\n",
              "      <td>8.0028</td>\n",
              "      <td>1</td>\n",
              "      <td>0.0</td>\n",
              "      <td>8.0028</td>\n",
              "      <td>8.0028</td>\n",
              "      <td>0.344864</td>\n",
              "      <td>1</td>\n",
              "      <td>0</td>\n",
              "      <td>1539</td>\n",
              "      <td>1539.0</td>\n",
              "      <td>66.32</td>\n",
              "      <td>0.0</td>\n",
              "      <td>0.0</td>\n",
              "      <td>0</td>\n",
              "      <td>0</td>\n",
              "      <td>1</td>\n",
              "      <td>6</td>\n",
              "      <td>6.0</td>\n",
              "      <td>0.0</td>\n",
              "      <td>1.0</td>\n",
              "      <td>6</td>\n",
              "      <td>6</td>\n",
              "      <td>0.0</td>\n",
              "      <td>0.000000</td>\n",
              "      <td>0.000000</td>\n",
              "    </tr>\n",
              "    <tr>\n",
              "      <th>3</th>\n",
              "      <td>1</td>\n",
              "      <td>241.0</td>\n",
              "      <td>0.110386</td>\n",
              "      <td>0.110386</td>\n",
              "      <td>159.42</td>\n",
              "      <td>159.42</td>\n",
              "      <td>41.0</td>\n",
              "      <td>0.0</td>\n",
              "      <td>4.9244</td>\n",
              "      <td>0</td>\n",
              "      <td>0.0</td>\n",
              "      <td>0.0000</td>\n",
              "      <td>0.0000</td>\n",
              "      <td>0.000000</td>\n",
              "      <td>1</td>\n",
              "      <td>0</td>\n",
              "      <td>947</td>\n",
              "      <td>947.0</td>\n",
              "      <td>2.50</td>\n",
              "      <td>0.0</td>\n",
              "      <td>0.0</td>\n",
              "      <td>0</td>\n",
              "      <td>0</td>\n",
              "      <td>2</td>\n",
              "      <td>12</td>\n",
              "      <td>6.0</td>\n",
              "      <td>0.0</td>\n",
              "      <td>2.0</td>\n",
              "      <td>12</td>\n",
              "      <td>6</td>\n",
              "      <td>0.0</td>\n",
              "      <td>0.000000</td>\n",
              "      <td>0.000000</td>\n",
              "    </tr>\n",
              "    <tr>\n",
              "      <th>4</th>\n",
              "      <td>1</td>\n",
              "      <td>947.0</td>\n",
              "      <td>0.783221</td>\n",
              "      <td>0.783221</td>\n",
              "      <td>1098.90</td>\n",
              "      <td>1098.90</td>\n",
              "      <td>4.0</td>\n",
              "      <td>0.0</td>\n",
              "      <td>12.0068</td>\n",
              "      <td>7</td>\n",
              "      <td>2.0</td>\n",
              "      <td>104.1508</td>\n",
              "      <td>12.0068</td>\n",
              "      <td>0.150800</td>\n",
              "      <td>8</td>\n",
              "      <td>2</td>\n",
              "      <td>23496</td>\n",
              "      <td>2888.0</td>\n",
              "      <td>35.00</td>\n",
              "      <td>0.0</td>\n",
              "      <td>0.0</td>\n",
              "      <td>0</td>\n",
              "      <td>0</td>\n",
              "      <td>7</td>\n",
              "      <td>42</td>\n",
              "      <td>6.0</td>\n",
              "      <td>0.0</td>\n",
              "      <td>7.0</td>\n",
              "      <td>42</td>\n",
              "      <td>6</td>\n",
              "      <td>0.0</td>\n",
              "      <td>2.333333</td>\n",
              "      <td>2.333333</td>\n",
              "    </tr>\n",
              "  </tbody>\n",
              "</table>\n",
              "</div>"
            ],
            "text/plain": [
              "   label    aon  daily_decr30  ...  medianamnt_loans90  payback30  payback90\n",
              "0      0  272.0     15.886260  ...                 0.0  29.000000  29.000000\n",
              "1      1  712.0     63.034400  ...                 0.0   0.000000   0.000000\n",
              "2      1  535.0      7.269600  ...                 0.0   0.000000   0.000000\n",
              "3      1  241.0      0.110386  ...                 0.0   0.000000   0.000000\n",
              "4      1  947.0      0.783221  ...                 0.0   2.333333   2.333333\n",
              "\n",
              "[5 rows x 33 columns]"
            ]
          },
          "metadata": {
            "tags": []
          },
          "execution_count": 39
        }
      ]
    },
    {
      "cell_type": "code",
      "metadata": {
        "id": "SAdX7CLgGyMb",
        "outputId": "0e49990a-71a6-4dc3-c16d-1fa78ca7be00",
        "colab": {
          "base_uri": "https://localhost:8080/",
          "height": 317
        }
      },
      "source": [
        "#statistical summary of the dataset\n",
        "credit.describe()"
      ],
      "execution_count": 40,
      "outputs": [
        {
          "output_type": "execute_result",
          "data": {
            "text/html": [
              "<div>\n",
              "<style scoped>\n",
              "    .dataframe tbody tr th:only-of-type {\n",
              "        vertical-align: middle;\n",
              "    }\n",
              "\n",
              "    .dataframe tbody tr th {\n",
              "        vertical-align: top;\n",
              "    }\n",
              "\n",
              "    .dataframe thead th {\n",
              "        text-align: right;\n",
              "    }\n",
              "</style>\n",
              "<table border=\"1\" class=\"dataframe\">\n",
              "  <thead>\n",
              "    <tr style=\"text-align: right;\">\n",
              "      <th></th>\n",
              "      <th>label</th>\n",
              "      <th>aon</th>\n",
              "      <th>daily_decr30</th>\n",
              "      <th>daily_decr90</th>\n",
              "      <th>rental30</th>\n",
              "      <th>rental90</th>\n",
              "      <th>last_rech_date_ma</th>\n",
              "      <th>last_rech_date_da</th>\n",
              "      <th>last_rech_amt_ma</th>\n",
              "      <th>cnt_ma_rech30</th>\n",
              "      <th>fr_ma_rech30</th>\n",
              "      <th>sumamnt_ma_rech30</th>\n",
              "      <th>medianamnt_ma_rech30</th>\n",
              "      <th>medianmarechprebal30</th>\n",
              "      <th>cnt_ma_rech90</th>\n",
              "      <th>fr_ma_rech90</th>\n",
              "      <th>sumamnt_ma_rech90</th>\n",
              "      <th>medianamnt_ma_rech90</th>\n",
              "      <th>medianmarechprebal90</th>\n",
              "      <th>cnt_da_rech30</th>\n",
              "      <th>fr_da_rech30</th>\n",
              "      <th>cnt_da_rech90</th>\n",
              "      <th>fr_da_rech90</th>\n",
              "      <th>cnt_loans30</th>\n",
              "      <th>amnt_loans30</th>\n",
              "      <th>maxamnt_loans30</th>\n",
              "      <th>medianamnt_loans30</th>\n",
              "      <th>cnt_loans90</th>\n",
              "      <th>amnt_loans90</th>\n",
              "      <th>maxamnt_loans90</th>\n",
              "      <th>medianamnt_loans90</th>\n",
              "      <th>payback30</th>\n",
              "      <th>payback90</th>\n",
              "    </tr>\n",
              "  </thead>\n",
              "  <tbody>\n",
              "    <tr>\n",
              "      <th>count</th>\n",
              "      <td>209593.000000</td>\n",
              "      <td>209593.000000</td>\n",
              "      <td>209593.000000</td>\n",
              "      <td>209593.000000</td>\n",
              "      <td>209593.000000</td>\n",
              "      <td>209593.000000</td>\n",
              "      <td>209593.000000</td>\n",
              "      <td>209593.000000</td>\n",
              "      <td>209593.000000</td>\n",
              "      <td>209593.000000</td>\n",
              "      <td>209593.000000</td>\n",
              "      <td>209593.000000</td>\n",
              "      <td>209593.000000</td>\n",
              "      <td>209593.000000</td>\n",
              "      <td>209593.00000</td>\n",
              "      <td>209593.000000</td>\n",
              "      <td>209593.000000</td>\n",
              "      <td>209593.000000</td>\n",
              "      <td>209593.000000</td>\n",
              "      <td>209593.000000</td>\n",
              "      <td>209593.000000</td>\n",
              "      <td>209593.000000</td>\n",
              "      <td>209593.000000</td>\n",
              "      <td>209593.000000</td>\n",
              "      <td>209593.000000</td>\n",
              "      <td>209593.000000</td>\n",
              "      <td>209593.000000</td>\n",
              "      <td>209593.000000</td>\n",
              "      <td>209593.000000</td>\n",
              "      <td>209593.000000</td>\n",
              "      <td>209593.000000</td>\n",
              "      <td>209593.000000</td>\n",
              "      <td>209593.000000</td>\n",
              "    </tr>\n",
              "    <tr>\n",
              "      <th>mean</th>\n",
              "      <td>0.875177</td>\n",
              "      <td>8112.343445</td>\n",
              "      <td>27.983292</td>\n",
              "      <td>31.629078</td>\n",
              "      <td>2692.581910</td>\n",
              "      <td>3483.406534</td>\n",
              "      <td>3755.847800</td>\n",
              "      <td>3712.202921</td>\n",
              "      <td>10.735155</td>\n",
              "      <td>3.978057</td>\n",
              "      <td>3737.355121</td>\n",
              "      <td>40.063406</td>\n",
              "      <td>9.426653</td>\n",
              "      <td>20.030025</td>\n",
              "      <td>6.31543</td>\n",
              "      <td>7.716780</td>\n",
              "      <td>12396.218352</td>\n",
              "      <td>1864.595821</td>\n",
              "      <td>92.025541</td>\n",
              "      <td>262.578110</td>\n",
              "      <td>3749.494447</td>\n",
              "      <td>0.041495</td>\n",
              "      <td>0.045712</td>\n",
              "      <td>2.758981</td>\n",
              "      <td>17.952021</td>\n",
              "      <td>274.658747</td>\n",
              "      <td>0.054029</td>\n",
              "      <td>18.520919</td>\n",
              "      <td>23.645398</td>\n",
              "      <td>6.703134</td>\n",
              "      <td>0.046077</td>\n",
              "      <td>3.398826</td>\n",
              "      <td>4.321485</td>\n",
              "    </tr>\n",
              "    <tr>\n",
              "      <th>std</th>\n",
              "      <td>0.330519</td>\n",
              "      <td>75696.082531</td>\n",
              "      <td>47.947242</td>\n",
              "      <td>56.777826</td>\n",
              "      <td>4308.586781</td>\n",
              "      <td>5770.461279</td>\n",
              "      <td>53905.892230</td>\n",
              "      <td>53374.833430</td>\n",
              "      <td>12.328087</td>\n",
              "      <td>4.256090</td>\n",
              "      <td>53643.625172</td>\n",
              "      <td>52.726033</td>\n",
              "      <td>10.768496</td>\n",
              "      <td>280.833147</td>\n",
              "      <td>7.19347</td>\n",
              "      <td>12.590251</td>\n",
              "      <td>16857.793882</td>\n",
              "      <td>2081.680664</td>\n",
              "      <td>369.215658</td>\n",
              "      <td>4183.897978</td>\n",
              "      <td>53885.414979</td>\n",
              "      <td>0.397556</td>\n",
              "      <td>0.951386</td>\n",
              "      <td>2.554502</td>\n",
              "      <td>17.379741</td>\n",
              "      <td>4245.264648</td>\n",
              "      <td>0.218039</td>\n",
              "      <td>224.797423</td>\n",
              "      <td>26.469861</td>\n",
              "      <td>2.103864</td>\n",
              "      <td>0.200692</td>\n",
              "      <td>8.813729</td>\n",
              "      <td>10.308108</td>\n",
              "    </tr>\n",
              "    <tr>\n",
              "      <th>min</th>\n",
              "      <td>0.000000</td>\n",
              "      <td>-48.000000</td>\n",
              "      <td>-0.483666</td>\n",
              "      <td>-0.483666</td>\n",
              "      <td>-23737.140000</td>\n",
              "      <td>-24720.580000</td>\n",
              "      <td>-29.000000</td>\n",
              "      <td>-29.000000</td>\n",
              "      <td>0.000000</td>\n",
              "      <td>0.000000</td>\n",
              "      <td>0.000000</td>\n",
              "      <td>0.000000</td>\n",
              "      <td>0.000000</td>\n",
              "      <td>-1.040000</td>\n",
              "      <td>0.00000</td>\n",
              "      <td>0.000000</td>\n",
              "      <td>0.000000</td>\n",
              "      <td>0.000000</td>\n",
              "      <td>-200.000000</td>\n",
              "      <td>0.000000</td>\n",
              "      <td>0.000000</td>\n",
              "      <td>0.000000</td>\n",
              "      <td>0.000000</td>\n",
              "      <td>0.000000</td>\n",
              "      <td>0.000000</td>\n",
              "      <td>0.000000</td>\n",
              "      <td>0.000000</td>\n",
              "      <td>0.000000</td>\n",
              "      <td>0.000000</td>\n",
              "      <td>0.000000</td>\n",
              "      <td>0.000000</td>\n",
              "      <td>0.000000</td>\n",
              "      <td>0.000000</td>\n",
              "    </tr>\n",
              "    <tr>\n",
              "      <th>25%</th>\n",
              "      <td>1.000000</td>\n",
              "      <td>246.000000</td>\n",
              "      <td>0.220688</td>\n",
              "      <td>0.221998</td>\n",
              "      <td>280.420000</td>\n",
              "      <td>300.260000</td>\n",
              "      <td>1.000000</td>\n",
              "      <td>0.000000</td>\n",
              "      <td>4.004000</td>\n",
              "      <td>1.000000</td>\n",
              "      <td>0.000000</td>\n",
              "      <td>8.008000</td>\n",
              "      <td>4.004000</td>\n",
              "      <td>0.057200</td>\n",
              "      <td>2.00000</td>\n",
              "      <td>0.000000</td>\n",
              "      <td>2317.000000</td>\n",
              "      <td>773.000000</td>\n",
              "      <td>14.600000</td>\n",
              "      <td>0.000000</td>\n",
              "      <td>0.000000</td>\n",
              "      <td>0.000000</td>\n",
              "      <td>0.000000</td>\n",
              "      <td>1.000000</td>\n",
              "      <td>6.000000</td>\n",
              "      <td>6.000000</td>\n",
              "      <td>0.000000</td>\n",
              "      <td>1.000000</td>\n",
              "      <td>6.000000</td>\n",
              "      <td>6.000000</td>\n",
              "      <td>0.000000</td>\n",
              "      <td>0.000000</td>\n",
              "      <td>0.000000</td>\n",
              "    </tr>\n",
              "    <tr>\n",
              "      <th>50%</th>\n",
              "      <td>1.000000</td>\n",
              "      <td>527.000000</td>\n",
              "      <td>7.639713</td>\n",
              "      <td>7.800000</td>\n",
              "      <td>1083.570000</td>\n",
              "      <td>1334.000000</td>\n",
              "      <td>3.000000</td>\n",
              "      <td>0.000000</td>\n",
              "      <td>8.002800</td>\n",
              "      <td>3.000000</td>\n",
              "      <td>2.000000</td>\n",
              "      <td>24.065600</td>\n",
              "      <td>8.002800</td>\n",
              "      <td>0.176280</td>\n",
              "      <td>4.00000</td>\n",
              "      <td>2.000000</td>\n",
              "      <td>7226.000000</td>\n",
              "      <td>1539.000000</td>\n",
              "      <td>36.000000</td>\n",
              "      <td>0.000000</td>\n",
              "      <td>0.000000</td>\n",
              "      <td>0.000000</td>\n",
              "      <td>0.000000</td>\n",
              "      <td>2.000000</td>\n",
              "      <td>12.000000</td>\n",
              "      <td>6.000000</td>\n",
              "      <td>0.000000</td>\n",
              "      <td>2.000000</td>\n",
              "      <td>12.000000</td>\n",
              "      <td>6.000000</td>\n",
              "      <td>0.000000</td>\n",
              "      <td>0.000000</td>\n",
              "      <td>1.666667</td>\n",
              "    </tr>\n",
              "    <tr>\n",
              "      <th>75%</th>\n",
              "      <td>1.000000</td>\n",
              "      <td>982.000000</td>\n",
              "      <td>37.668800</td>\n",
              "      <td>40.574508</td>\n",
              "      <td>3356.940000</td>\n",
              "      <td>4201.790000</td>\n",
              "      <td>7.000000</td>\n",
              "      <td>0.000000</td>\n",
              "      <td>12.006800</td>\n",
              "      <td>5.000000</td>\n",
              "      <td>6.000000</td>\n",
              "      <td>52.052000</td>\n",
              "      <td>10.004800</td>\n",
              "      <td>0.431600</td>\n",
              "      <td>8.00000</td>\n",
              "      <td>8.000000</td>\n",
              "      <td>16000.000000</td>\n",
              "      <td>1924.000000</td>\n",
              "      <td>79.310000</td>\n",
              "      <td>0.000000</td>\n",
              "      <td>0.000000</td>\n",
              "      <td>0.000000</td>\n",
              "      <td>0.000000</td>\n",
              "      <td>4.000000</td>\n",
              "      <td>24.000000</td>\n",
              "      <td>6.000000</td>\n",
              "      <td>0.000000</td>\n",
              "      <td>5.000000</td>\n",
              "      <td>30.000000</td>\n",
              "      <td>6.000000</td>\n",
              "      <td>0.000000</td>\n",
              "      <td>3.750000</td>\n",
              "      <td>4.500000</td>\n",
              "    </tr>\n",
              "    <tr>\n",
              "      <th>max</th>\n",
              "      <td>1.000000</td>\n",
              "      <td>999860.755168</td>\n",
              "      <td>1382.815200</td>\n",
              "      <td>1667.276000</td>\n",
              "      <td>198926.110000</td>\n",
              "      <td>200148.110000</td>\n",
              "      <td>998650.377733</td>\n",
              "      <td>999171.809410</td>\n",
              "      <td>286.000000</td>\n",
              "      <td>203.000000</td>\n",
              "      <td>999606.368132</td>\n",
              "      <td>4212.499200</td>\n",
              "      <td>286.000000</td>\n",
              "      <td>5197.292980</td>\n",
              "      <td>336.00000</td>\n",
              "      <td>88.000000</td>\n",
              "      <td>953036.000000</td>\n",
              "      <td>55000.000000</td>\n",
              "      <td>41456.500000</td>\n",
              "      <td>99914.441420</td>\n",
              "      <td>999809.240107</td>\n",
              "      <td>38.000000</td>\n",
              "      <td>64.000000</td>\n",
              "      <td>50.000000</td>\n",
              "      <td>306.000000</td>\n",
              "      <td>99864.560864</td>\n",
              "      <td>3.000000</td>\n",
              "      <td>4997.517944</td>\n",
              "      <td>438.000000</td>\n",
              "      <td>12.000000</td>\n",
              "      <td>3.000000</td>\n",
              "      <td>171.500000</td>\n",
              "      <td>171.500000</td>\n",
              "    </tr>\n",
              "  </tbody>\n",
              "</table>\n",
              "</div>"
            ],
            "text/plain": [
              "               label            aon  ...      payback30      payback90\n",
              "count  209593.000000  209593.000000  ...  209593.000000  209593.000000\n",
              "mean        0.875177    8112.343445  ...       3.398826       4.321485\n",
              "std         0.330519   75696.082531  ...       8.813729      10.308108\n",
              "min         0.000000     -48.000000  ...       0.000000       0.000000\n",
              "25%         1.000000     246.000000  ...       0.000000       0.000000\n",
              "50%         1.000000     527.000000  ...       0.000000       1.666667\n",
              "75%         1.000000     982.000000  ...       3.750000       4.500000\n",
              "max         1.000000  999860.755168  ...     171.500000     171.500000\n",
              "\n",
              "[8 rows x 33 columns]"
            ]
          },
          "metadata": {
            "tags": []
          },
          "execution_count": 40
        }
      ]
    },
    {
      "cell_type": "code",
      "metadata": {
        "id": "cppj0kvUHBRV",
        "outputId": "29d80374-954d-4466-bf26-96008b328cd1",
        "colab": {
          "base_uri": "https://localhost:8080/",
          "height": 400
        }
      },
      "source": [
        "#plotting the correlation heatmap\n",
        "sns.heatmap(credit.corr())"
      ],
      "execution_count": 41,
      "outputs": [
        {
          "output_type": "execute_result",
          "data": {
            "text/plain": [
              "<matplotlib.axes._subplots.AxesSubplot at 0x7f279f160fd0>"
            ]
          },
          "metadata": {
            "tags": []
          },
          "execution_count": 41
        },
        {
          "output_type": "display_data",
          "data": {
            "image/png": "[encoded data removed]",
            "text/plain": [
              "<Figure size 432x288 with 2 Axes>"
            ]
          },
          "metadata": {
            "tags": [],
            "needs_background": "light"
          }
        }
      ]
    },
    {
      "cell_type": "markdown",
      "metadata": {
        "id": "KNgtrZGPNNj5"
      },
      "source": [
        "From the describe column,we see there is presence of outliers in each and every feature here,Lets apply z-score to reduce some"
      ]
    },
    {
      "cell_type": "code",
      "metadata": {
        "id": "lduvIYHaMeGv",
        "outputId": "5a9cd0ad-79f2-45ee-f535-a56f03bb45f0",
        "colab": {
          "base_uri": "https://localhost:8080/"
        }
      },
      "source": [
        "#applying zscore\n",
        "from scipy.stats import zscore\n",
        "z=np.abs(zscore(credit))\n",
        "credit_new=credit[(z<3).all(axis=1)]\n",
        "credit_new.shape"
      ],
      "execution_count": 42,
      "outputs": [
        {
          "output_type": "execute_result",
          "data": {
            "text/plain": [
              "(161465, 33)"
            ]
          },
          "metadata": {
            "tags": []
          },
          "execution_count": 42
        }
      ]
    },
    {
      "cell_type": "markdown",
      "metadata": {
        "id": "jLFf_9UlNYZP"
      },
      "source": [
        "We see after applying zscore,we get huge reduce in rows size and column too,so taking it as a primary dataset for processing"
      ]
    },
    {
      "cell_type": "code",
      "metadata": {
        "id": "cIGLZwesNQ4l",
        "outputId": "538c2e98-684f-4559-84c3-cbd1bbc3d406",
        "colab": {
          "base_uri": "https://localhost:8080/",
          "height": 439
        }
      },
      "source": [
        "credit=credit_new\n",
        "credit"
      ],
      "execution_count": 43,
      "outputs": [
        {
          "output_type": "execute_result",
          "data": {
            "text/html": [
              "<div>\n",
              "<style scoped>\n",
              "    .dataframe tbody tr th:only-of-type {\n",
              "        vertical-align: middle;\n",
              "    }\n",
              "\n",
              "    .dataframe tbody tr th {\n",
              "        vertical-align: top;\n",
              "    }\n",
              "\n",
              "    .dataframe thead th {\n",
              "        text-align: right;\n",
              "    }\n",
              "</style>\n",
              "<table border=\"1\" class=\"dataframe\">\n",
              "  <thead>\n",
              "    <tr style=\"text-align: right;\">\n",
              "      <th></th>\n",
              "      <th>label</th>\n",
              "      <th>aon</th>\n",
              "      <th>daily_decr30</th>\n",
              "      <th>daily_decr90</th>\n",
              "      <th>rental30</th>\n",
              "      <th>rental90</th>\n",
              "      <th>last_rech_date_ma</th>\n",
              "      <th>last_rech_date_da</th>\n",
              "      <th>last_rech_amt_ma</th>\n",
              "      <th>cnt_ma_rech30</th>\n",
              "      <th>fr_ma_rech30</th>\n",
              "      <th>sumamnt_ma_rech30</th>\n",
              "      <th>medianamnt_ma_rech30</th>\n",
              "      <th>medianmarechprebal30</th>\n",
              "      <th>cnt_ma_rech90</th>\n",
              "      <th>fr_ma_rech90</th>\n",
              "      <th>sumamnt_ma_rech90</th>\n",
              "      <th>medianamnt_ma_rech90</th>\n",
              "      <th>medianmarechprebal90</th>\n",
              "      <th>cnt_da_rech30</th>\n",
              "      <th>fr_da_rech30</th>\n",
              "      <th>cnt_da_rech90</th>\n",
              "      <th>fr_da_rech90</th>\n",
              "      <th>cnt_loans30</th>\n",
              "      <th>amnt_loans30</th>\n",
              "      <th>maxamnt_loans30</th>\n",
              "      <th>medianamnt_loans30</th>\n",
              "      <th>cnt_loans90</th>\n",
              "      <th>amnt_loans90</th>\n",
              "      <th>maxamnt_loans90</th>\n",
              "      <th>medianamnt_loans90</th>\n",
              "      <th>payback30</th>\n",
              "      <th>payback90</th>\n",
              "    </tr>\n",
              "  </thead>\n",
              "  <tbody>\n",
              "    <tr>\n",
              "      <th>0</th>\n",
              "      <td>0</td>\n",
              "      <td>272.0</td>\n",
              "      <td>15.886260</td>\n",
              "      <td>15.938780</td>\n",
              "      <td>220.13</td>\n",
              "      <td>260.13</td>\n",
              "      <td>2.0</td>\n",
              "      <td>0.0</td>\n",
              "      <td>8.0028</td>\n",
              "      <td>2</td>\n",
              "      <td>21.0</td>\n",
              "      <td>16.0056</td>\n",
              "      <td>8.0028</td>\n",
              "      <td>0.039000</td>\n",
              "      <td>2</td>\n",
              "      <td>21</td>\n",
              "      <td>3078</td>\n",
              "      <td>1539.0</td>\n",
              "      <td>7.50</td>\n",
              "      <td>0.0</td>\n",
              "      <td>0.0</td>\n",
              "      <td>0</td>\n",
              "      <td>0</td>\n",
              "      <td>2</td>\n",
              "      <td>12</td>\n",
              "      <td>6.0</td>\n",
              "      <td>0.0</td>\n",
              "      <td>2.0</td>\n",
              "      <td>12</td>\n",
              "      <td>6</td>\n",
              "      <td>0.0</td>\n",
              "      <td>29.000000</td>\n",
              "      <td>29.000000</td>\n",
              "    </tr>\n",
              "    <tr>\n",
              "      <th>1</th>\n",
              "      <td>1</td>\n",
              "      <td>712.0</td>\n",
              "      <td>63.034400</td>\n",
              "      <td>63.048700</td>\n",
              "      <td>3691.26</td>\n",
              "      <td>3691.26</td>\n",
              "      <td>20.0</td>\n",
              "      <td>0.0</td>\n",
              "      <td>30.0924</td>\n",
              "      <td>1</td>\n",
              "      <td>0.0</td>\n",
              "      <td>30.0924</td>\n",
              "      <td>30.0924</td>\n",
              "      <td>0.317408</td>\n",
              "      <td>1</td>\n",
              "      <td>0</td>\n",
              "      <td>5787</td>\n",
              "      <td>5787.0</td>\n",
              "      <td>61.04</td>\n",
              "      <td>0.0</td>\n",
              "      <td>0.0</td>\n",
              "      <td>0</td>\n",
              "      <td>0</td>\n",
              "      <td>1</td>\n",
              "      <td>12</td>\n",
              "      <td>12.0</td>\n",
              "      <td>0.0</td>\n",
              "      <td>1.0</td>\n",
              "      <td>12</td>\n",
              "      <td>12</td>\n",
              "      <td>0.0</td>\n",
              "      <td>0.000000</td>\n",
              "      <td>0.000000</td>\n",
              "    </tr>\n",
              "    <tr>\n",
              "      <th>2</th>\n",
              "      <td>1</td>\n",
              "      <td>535.0</td>\n",
              "      <td>7.269600</td>\n",
              "      <td>7.269600</td>\n",
              "      <td>900.13</td>\n",
              "      <td>900.13</td>\n",
              "      <td>3.0</td>\n",
              "      <td>0.0</td>\n",
              "      <td>8.0028</td>\n",
              "      <td>1</td>\n",
              "      <td>0.0</td>\n",
              "      <td>8.0028</td>\n",
              "      <td>8.0028</td>\n",
              "      <td>0.344864</td>\n",
              "      <td>1</td>\n",
              "      <td>0</td>\n",
              "      <td>1539</td>\n",
              "      <td>1539.0</td>\n",
              "      <td>66.32</td>\n",
              "      <td>0.0</td>\n",
              "      <td>0.0</td>\n",
              "      <td>0</td>\n",
              "      <td>0</td>\n",
              "      <td>1</td>\n",
              "      <td>6</td>\n",
              "      <td>6.0</td>\n",
              "      <td>0.0</td>\n",
              "      <td>1.0</td>\n",
              "      <td>6</td>\n",
              "      <td>6</td>\n",
              "      <td>0.0</td>\n",
              "      <td>0.000000</td>\n",
              "      <td>0.000000</td>\n",
              "    </tr>\n",
              "    <tr>\n",
              "      <th>3</th>\n",
              "      <td>1</td>\n",
              "      <td>241.0</td>\n",
              "      <td>0.110386</td>\n",
              "      <td>0.110386</td>\n",
              "      <td>159.42</td>\n",
              "      <td>159.42</td>\n",
              "      <td>41.0</td>\n",
              "      <td>0.0</td>\n",
              "      <td>4.9244</td>\n",
              "      <td>0</td>\n",
              "      <td>0.0</td>\n",
              "      <td>0.0000</td>\n",
              "      <td>0.0000</td>\n",
              "      <td>0.000000</td>\n",
              "      <td>1</td>\n",
              "      <td>0</td>\n",
              "      <td>947</td>\n",
              "      <td>947.0</td>\n",
              "      <td>2.50</td>\n",
              "      <td>0.0</td>\n",
              "      <td>0.0</td>\n",
              "      <td>0</td>\n",
              "      <td>0</td>\n",
              "      <td>2</td>\n",
              "      <td>12</td>\n",
              "      <td>6.0</td>\n",
              "      <td>0.0</td>\n",
              "      <td>2.0</td>\n",
              "      <td>12</td>\n",
              "      <td>6</td>\n",
              "      <td>0.0</td>\n",
              "      <td>0.000000</td>\n",
              "      <td>0.000000</td>\n",
              "    </tr>\n",
              "    <tr>\n",
              "      <th>4</th>\n",
              "      <td>1</td>\n",
              "      <td>947.0</td>\n",
              "      <td>0.783221</td>\n",
              "      <td>0.783221</td>\n",
              "      <td>1098.90</td>\n",
              "      <td>1098.90</td>\n",
              "      <td>4.0</td>\n",
              "      <td>0.0</td>\n",
              "      <td>12.0068</td>\n",
              "      <td>7</td>\n",
              "      <td>2.0</td>\n",
              "      <td>104.1508</td>\n",
              "      <td>12.0068</td>\n",
              "      <td>0.150800</td>\n",
              "      <td>8</td>\n",
              "      <td>2</td>\n",
              "      <td>23496</td>\n",
              "      <td>2888.0</td>\n",
              "      <td>35.00</td>\n",
              "      <td>0.0</td>\n",
              "      <td>0.0</td>\n",
              "      <td>0</td>\n",
              "      <td>0</td>\n",
              "      <td>7</td>\n",
              "      <td>42</td>\n",
              "      <td>6.0</td>\n",
              "      <td>0.0</td>\n",
              "      <td>7.0</td>\n",
              "      <td>42</td>\n",
              "      <td>6</td>\n",
              "      <td>0.0</td>\n",
              "      <td>2.333333</td>\n",
              "      <td>2.333333</td>\n",
              "    </tr>\n",
              "    <tr>\n",
              "      <th>...</th>\n",
              "      <td>...</td>\n",
              "      <td>...</td>\n",
              "      <td>...</td>\n",
              "      <td>...</td>\n",
              "      <td>...</td>\n",
              "      <td>...</td>\n",
              "      <td>...</td>\n",
              "      <td>...</td>\n",
              "      <td>...</td>\n",
              "      <td>...</td>\n",
              "      <td>...</td>\n",
              "      <td>...</td>\n",
              "      <td>...</td>\n",
              "      <td>...</td>\n",
              "      <td>...</td>\n",
              "      <td>...</td>\n",
              "      <td>...</td>\n",
              "      <td>...</td>\n",
              "      <td>...</td>\n",
              "      <td>...</td>\n",
              "      <td>...</td>\n",
              "      <td>...</td>\n",
              "      <td>...</td>\n",
              "      <td>...</td>\n",
              "      <td>...</td>\n",
              "      <td>...</td>\n",
              "      <td>...</td>\n",
              "      <td>...</td>\n",
              "      <td>...</td>\n",
              "      <td>...</td>\n",
              "      <td>...</td>\n",
              "      <td>...</td>\n",
              "      <td>...</td>\n",
              "    </tr>\n",
              "    <tr>\n",
              "      <th>209588</th>\n",
              "      <td>1</td>\n",
              "      <td>404.0</td>\n",
              "      <td>0.789736</td>\n",
              "      <td>0.789736</td>\n",
              "      <td>1089.19</td>\n",
              "      <td>1089.19</td>\n",
              "      <td>1.0</td>\n",
              "      <td>0.0</td>\n",
              "      <td>21.0496</td>\n",
              "      <td>3</td>\n",
              "      <td>2.0</td>\n",
              "      <td>54.1008</td>\n",
              "      <td>16.5256</td>\n",
              "      <td>0.477412</td>\n",
              "      <td>3</td>\n",
              "      <td>2</td>\n",
              "      <td>10404</td>\n",
              "      <td>3178.0</td>\n",
              "      <td>91.81</td>\n",
              "      <td>0.0</td>\n",
              "      <td>0.0</td>\n",
              "      <td>0</td>\n",
              "      <td>0</td>\n",
              "      <td>2</td>\n",
              "      <td>12</td>\n",
              "      <td>6.0</td>\n",
              "      <td>0.0</td>\n",
              "      <td>2.0</td>\n",
              "      <td>12</td>\n",
              "      <td>6</td>\n",
              "      <td>0.0</td>\n",
              "      <td>1.000000</td>\n",
              "      <td>1.000000</td>\n",
              "    </tr>\n",
              "    <tr>\n",
              "      <th>209589</th>\n",
              "      <td>1</td>\n",
              "      <td>1075.0</td>\n",
              "      <td>0.192067</td>\n",
              "      <td>0.192067</td>\n",
              "      <td>1728.36</td>\n",
              "      <td>1728.36</td>\n",
              "      <td>4.0</td>\n",
              "      <td>0.0</td>\n",
              "      <td>4.0196</td>\n",
              "      <td>4</td>\n",
              "      <td>1.0</td>\n",
              "      <td>16.0784</td>\n",
              "      <td>4.0196</td>\n",
              "      <td>0.838760</td>\n",
              "      <td>6</td>\n",
              "      <td>2</td>\n",
              "      <td>4038</td>\n",
              "      <td>773.0</td>\n",
              "      <td>111.80</td>\n",
              "      <td>0.0</td>\n",
              "      <td>0.0</td>\n",
              "      <td>0</td>\n",
              "      <td>0</td>\n",
              "      <td>3</td>\n",
              "      <td>18</td>\n",
              "      <td>6.0</td>\n",
              "      <td>0.0</td>\n",
              "      <td>3.0</td>\n",
              "      <td>18</td>\n",
              "      <td>6</td>\n",
              "      <td>0.0</td>\n",
              "      <td>1.000000</td>\n",
              "      <td>1.000000</td>\n",
              "    </tr>\n",
              "    <tr>\n",
              "      <th>209590</th>\n",
              "      <td>1</td>\n",
              "      <td>1013.0</td>\n",
              "      <td>61.584181</td>\n",
              "      <td>61.902620</td>\n",
              "      <td>5861.83</td>\n",
              "      <td>8893.20</td>\n",
              "      <td>3.0</td>\n",
              "      <td>0.0</td>\n",
              "      <td>8.0028</td>\n",
              "      <td>5</td>\n",
              "      <td>8.0</td>\n",
              "      <td>48.5368</td>\n",
              "      <td>8.0028</td>\n",
              "      <td>0.265876</td>\n",
              "      <td>11</td>\n",
              "      <td>5</td>\n",
              "      <td>18592</td>\n",
              "      <td>1539.0</td>\n",
              "      <td>47.13</td>\n",
              "      <td>0.0</td>\n",
              "      <td>0.0</td>\n",
              "      <td>0</td>\n",
              "      <td>0</td>\n",
              "      <td>4</td>\n",
              "      <td>42</td>\n",
              "      <td>12.0</td>\n",
              "      <td>0.0</td>\n",
              "      <td>6.0</td>\n",
              "      <td>54</td>\n",
              "      <td>12</td>\n",
              "      <td>0.0</td>\n",
              "      <td>4.000000</td>\n",
              "      <td>3.833333</td>\n",
              "    </tr>\n",
              "    <tr>\n",
              "      <th>209591</th>\n",
              "      <td>1</td>\n",
              "      <td>1732.0</td>\n",
              "      <td>64.938787</td>\n",
              "      <td>65.386724</td>\n",
              "      <td>411.83</td>\n",
              "      <td>984.58</td>\n",
              "      <td>2.0</td>\n",
              "      <td>38.0</td>\n",
              "      <td>4.0196</td>\n",
              "      <td>5</td>\n",
              "      <td>4.0</td>\n",
              "      <td>63.2008</td>\n",
              "      <td>4.0196</td>\n",
              "      <td>0.852800</td>\n",
              "      <td>6</td>\n",
              "      <td>4</td>\n",
              "      <td>17941</td>\n",
              "      <td>2410.5</td>\n",
              "      <td>100.00</td>\n",
              "      <td>0.0</td>\n",
              "      <td>0.0</td>\n",
              "      <td>1</td>\n",
              "      <td>0</td>\n",
              "      <td>2</td>\n",
              "      <td>18</td>\n",
              "      <td>12.0</td>\n",
              "      <td>0.0</td>\n",
              "      <td>3.0</td>\n",
              "      <td>24</td>\n",
              "      <td>12</td>\n",
              "      <td>0.0</td>\n",
              "      <td>0.000000</td>\n",
              "      <td>10.500000</td>\n",
              "    </tr>\n",
              "    <tr>\n",
              "      <th>209592</th>\n",
              "      <td>1</td>\n",
              "      <td>1581.0</td>\n",
              "      <td>23.344682</td>\n",
              "      <td>23.581064</td>\n",
              "      <td>483.92</td>\n",
              "      <td>631.20</td>\n",
              "      <td>13.0</td>\n",
              "      <td>0.0</td>\n",
              "      <td>39.1352</td>\n",
              "      <td>2</td>\n",
              "      <td>1.0</td>\n",
              "      <td>47.1380</td>\n",
              "      <td>23.5690</td>\n",
              "      <td>1.854840</td>\n",
              "      <td>3</td>\n",
              "      <td>19</td>\n",
              "      <td>16591</td>\n",
              "      <td>7526.0</td>\n",
              "      <td>392.20</td>\n",
              "      <td>0.0</td>\n",
              "      <td>0.0</td>\n",
              "      <td>0</td>\n",
              "      <td>0</td>\n",
              "      <td>2</td>\n",
              "      <td>18</td>\n",
              "      <td>12.0</td>\n",
              "      <td>0.0</td>\n",
              "      <td>2.0</td>\n",
              "      <td>18</td>\n",
              "      <td>12</td>\n",
              "      <td>0.0</td>\n",
              "      <td>0.000000</td>\n",
              "      <td>0.000000</td>\n",
              "    </tr>\n",
              "  </tbody>\n",
              "</table>\n",
              "<p>161465 rows × 33 columns</p>\n",
              "</div>"
            ],
            "text/plain": [
              "        label     aon  daily_decr30  ...  medianamnt_loans90  payback30  payback90\n",
              "0           0   272.0     15.886260  ...                 0.0  29.000000  29.000000\n",
              "1           1   712.0     63.034400  ...                 0.0   0.000000   0.000000\n",
              "2           1   535.0      7.269600  ...                 0.0   0.000000   0.000000\n",
              "3           1   241.0      0.110386  ...                 0.0   0.000000   0.000000\n",
              "4           1   947.0      0.783221  ...                 0.0   2.333333   2.333333\n",
              "...       ...     ...           ...  ...                 ...        ...        ...\n",
              "209588      1   404.0      0.789736  ...                 0.0   1.000000   1.000000\n",
              "209589      1  1075.0      0.192067  ...                 0.0   1.000000   1.000000\n",
              "209590      1  1013.0     61.584181  ...                 0.0   4.000000   3.833333\n",
              "209591      1  1732.0     64.938787  ...                 0.0   0.000000  10.500000\n",
              "209592      1  1581.0     23.344682  ...                 0.0   0.000000   0.000000\n",
              "\n",
              "[161465 rows x 33 columns]"
            ]
          },
          "metadata": {
            "tags": []
          },
          "execution_count": 43
        }
      ]
    },
    {
      "cell_type": "code",
      "metadata": {
        "id": "Jz3YY4cbNb1z",
        "outputId": "00f5e590-3278-4fcc-c3e3-c3b2a8e22209",
        "colab": {
          "base_uri": "https://localhost:8080/",
          "height": 296
        }
      },
      "source": [
        "#plotting a data to visualize labels with rental30\n",
        "sns.barplot('label','rental30',data=credit)"
      ],
      "execution_count": 44,
      "outputs": [
        {
          "output_type": "execute_result",
          "data": {
            "text/plain": [
              "<matplotlib.axes._subplots.AxesSubplot at 0x7f279f0a1e10>"
            ]
          },
          "metadata": {
            "tags": []
          },
          "execution_count": 44
        },
        {
          "output_type": "display_data",
          "data": {
            "image/png": "[encoded data removed]",
            "text/plain": [
              "<Figure size 432x288 with 1 Axes>"
            ]
          },
          "metadata": {
            "tags": [],
            "needs_background": "light"
          }
        }
      ]
    },
    {
      "cell_type": "code",
      "metadata": {
        "id": "12Ud65v2Nimb",
        "outputId": "a3b75499-c6b9-438c-fda5-44ccb973d9ca",
        "colab": {
          "base_uri": "https://localhost:8080/",
          "height": 296
        }
      },
      "source": [
        "sns.scatterplot('rental30','rental90',data=credit)"
      ],
      "execution_count": 45,
      "outputs": [
        {
          "output_type": "execute_result",
          "data": {
            "text/plain": [
              "<matplotlib.axes._subplots.AxesSubplot at 0x7f279f018940>"
            ]
          },
          "metadata": {
            "tags": []
          },
          "execution_count": 45
        },
        {
          "output_type": "display_data",
          "data": {
            "image/png": "[encoded data removed]",
            "text/plain": [
              "<Figure size 432x288 with 1 Axes>"
            ]
          },
          "metadata": {
            "tags": [],
            "needs_background": "light"
          }
        }
      ]
    },
    {
      "cell_type": "markdown",
      "metadata": {
        "id": "XwAJDVDc025M"
      },
      "source": [
        "Dividing independent and dependant data from the dataset"
      ]
    },
    {
      "cell_type": "code",
      "metadata": {
        "id": "I14AUw-8Nstg",
        "outputId": "5e8d8787-9b01-4fb4-d848-828e983e8154",
        "colab": {
          "base_uri": "https://localhost:8080/"
        }
      },
      "source": [
        "des_x=credit.iloc[:,1:]\n",
        "y=credit.iloc[:,0]\n",
        "print(des_x.shape)\n",
        "print(y.shape)"
      ],
      "execution_count": 46,
      "outputs": [
        {
          "output_type": "stream",
          "text": [
            "(161465, 32)\n",
            "(161465,)\n"
          ],
          "name": "stdout"
        }
      ]
    },
    {
      "cell_type": "code",
      "metadata": {
        "id": "eyL5BAFiQ5Z9",
        "outputId": "a1a4c8bd-f403-430f-e240-83a5050a5c31",
        "colab": {
          "base_uri": "https://localhost:8080/",
          "height": 224
        }
      },
      "source": [
        "#applying standard scaler to the input data\n",
        "from sklearn.preprocessing import StandardScaler\n",
        "scale=StandardScaler()\n",
        "mod_x=scale.fit_transform(des_x)\n",
        "x=pd.DataFrame(mod_x,columns=des_x.columns)\n",
        "x.head()"
      ],
      "execution_count": 47,
      "outputs": [
        {
          "output_type": "execute_result",
          "data": {
            "text/html": [
              "<div>\n",
              "<style scoped>\n",
              "    .dataframe tbody tr th:only-of-type {\n",
              "        vertical-align: middle;\n",
              "    }\n",
              "\n",
              "    .dataframe tbody tr th {\n",
              "        vertical-align: top;\n",
              "    }\n",
              "\n",
              "    .dataframe thead th {\n",
              "        text-align: right;\n",
              "    }\n",
              "</style>\n",
              "<table border=\"1\" class=\"dataframe\">\n",
              "  <thead>\n",
              "    <tr style=\"text-align: right;\">\n",
              "      <th></th>\n",
              "      <th>aon</th>\n",
              "      <th>daily_decr30</th>\n",
              "      <th>daily_decr90</th>\n",
              "      <th>rental30</th>\n",
              "      <th>rental90</th>\n",
              "      <th>last_rech_date_ma</th>\n",
              "      <th>last_rech_date_da</th>\n",
              "      <th>last_rech_amt_ma</th>\n",
              "      <th>cnt_ma_rech30</th>\n",
              "      <th>fr_ma_rech30</th>\n",
              "      <th>sumamnt_ma_rech30</th>\n",
              "      <th>medianamnt_ma_rech30</th>\n",
              "      <th>medianmarechprebal30</th>\n",
              "      <th>cnt_ma_rech90</th>\n",
              "      <th>fr_ma_rech90</th>\n",
              "      <th>sumamnt_ma_rech90</th>\n",
              "      <th>medianamnt_ma_rech90</th>\n",
              "      <th>medianmarechprebal90</th>\n",
              "      <th>cnt_da_rech30</th>\n",
              "      <th>fr_da_rech30</th>\n",
              "      <th>cnt_da_rech90</th>\n",
              "      <th>fr_da_rech90</th>\n",
              "      <th>cnt_loans30</th>\n",
              "      <th>amnt_loans30</th>\n",
              "      <th>maxamnt_loans30</th>\n",
              "      <th>medianamnt_loans30</th>\n",
              "      <th>cnt_loans90</th>\n",
              "      <th>amnt_loans90</th>\n",
              "      <th>maxamnt_loans90</th>\n",
              "      <th>medianamnt_loans90</th>\n",
              "      <th>payback30</th>\n",
              "      <th>payback90</th>\n",
              "    </tr>\n",
              "  </thead>\n",
              "  <tbody>\n",
              "    <tr>\n",
              "      <th>0</th>\n",
              "      <td>-0.753989</td>\n",
              "      <td>-0.126467</td>\n",
              "      <td>-0.169679</td>\n",
              "      <td>-0.644046</td>\n",
              "      <td>-0.635286</td>\n",
              "      <td>-0.411410</td>\n",
              "      <td>-0.119438</td>\n",
              "      <td>-0.129929</td>\n",
              "      <td>-0.468416</td>\n",
              "      <td>3.116889</td>\n",
              "      <td>-0.478194</td>\n",
              "      <td>-0.020133</td>\n",
              "      <td>-0.433767</td>\n",
              "      <td>-0.663040</td>\n",
              "      <td>1.337962</td>\n",
              "      <td>-0.635883</td>\n",
              "      <td>-0.046800</td>\n",
              "      <td>-0.527748</td>\n",
              "      <td>-0.020514</td>\n",
              "      <td>0.0</td>\n",
              "      <td>-0.141331</td>\n",
              "      <td>0.0</td>\n",
              "      <td>-0.271757</td>\n",
              "      <td>-0.324496</td>\n",
              "      <td>-0.022490</td>\n",
              "      <td>-0.180636</td>\n",
              "      <td>-0.431731</td>\n",
              "      <td>-0.460004</td>\n",
              "      <td>-0.331915</td>\n",
              "      <td>-0.159769</td>\n",
              "      <td>6.238367</td>\n",
              "      <td>5.206904</td>\n",
              "    </tr>\n",
              "    <tr>\n",
              "      <th>1</th>\n",
              "      <td>0.132221</td>\n",
              "      <td>1.475220</td>\n",
              "      <td>1.235024</td>\n",
              "      <td>0.622504</td>\n",
              "      <td>0.338713</td>\n",
              "      <td>1.463090</td>\n",
              "      <td>-0.119438</td>\n",
              "      <td>2.235934</td>\n",
              "      <td>-0.792341</td>\n",
              "      <td>-0.718641</td>\n",
              "      <td>-0.032911</td>\n",
              "      <td>2.642042</td>\n",
              "      <td>-0.098841</td>\n",
              "      <td>-0.865668</td>\n",
              "      <td>-0.643145</td>\n",
              "      <td>-0.357580</td>\n",
              "      <td>2.619794</td>\n",
              "      <td>-0.082660</td>\n",
              "      <td>-0.020514</td>\n",
              "      <td>0.0</td>\n",
              "      <td>-0.141331</td>\n",
              "      <td>0.0</td>\n",
              "      <td>-0.796389</td>\n",
              "      <td>-0.324496</td>\n",
              "      <td>0.008528</td>\n",
              "      <td>-0.180636</td>\n",
              "      <td>-0.783344</td>\n",
              "      <td>-0.460004</td>\n",
              "      <td>3.012819</td>\n",
              "      <td>-0.159769</td>\n",
              "      <td>-0.619352</td>\n",
              "      <td>-0.647060</td>\n",
              "    </tr>\n",
              "    <tr>\n",
              "      <th>2</th>\n",
              "      <td>-0.224277</td>\n",
              "      <td>-0.419187</td>\n",
              "      <td>-0.428173</td>\n",
              "      <td>-0.395927</td>\n",
              "      <td>-0.453609</td>\n",
              "      <td>-0.307271</td>\n",
              "      <td>-0.119438</td>\n",
              "      <td>-0.129929</td>\n",
              "      <td>-0.792341</td>\n",
              "      <td>-0.718641</td>\n",
              "      <td>-0.731162</td>\n",
              "      <td>-0.020133</td>\n",
              "      <td>-0.065811</td>\n",
              "      <td>-0.865668</td>\n",
              "      <td>-0.643145</td>\n",
              "      <td>-0.793989</td>\n",
              "      <td>-0.046800</td>\n",
              "      <td>-0.038766</td>\n",
              "      <td>-0.020514</td>\n",
              "      <td>0.0</td>\n",
              "      <td>-0.141331</td>\n",
              "      <td>0.0</td>\n",
              "      <td>-0.796389</td>\n",
              "      <td>-0.816438</td>\n",
              "      <td>-0.022490</td>\n",
              "      <td>-0.180636</td>\n",
              "      <td>-0.783344</td>\n",
              "      <td>-0.794570</td>\n",
              "      <td>-0.331915</td>\n",
              "      <td>-0.159769</td>\n",
              "      <td>-0.619352</td>\n",
              "      <td>-0.647060</td>\n",
              "    </tr>\n",
              "    <tr>\n",
              "      <th>3</th>\n",
              "      <td>-0.816426</td>\n",
              "      <td>-0.662396</td>\n",
              "      <td>-0.641644</td>\n",
              "      <td>-0.666198</td>\n",
              "      <td>-0.663875</td>\n",
              "      <td>3.650007</td>\n",
              "      <td>-0.119438</td>\n",
              "      <td>-0.459635</td>\n",
              "      <td>-1.116266</td>\n",
              "      <td>-0.718641</td>\n",
              "      <td>-0.984130</td>\n",
              "      <td>-0.984607</td>\n",
              "      <td>-0.480684</td>\n",
              "      <td>-0.865668</td>\n",
              "      <td>-0.643145</td>\n",
              "      <td>-0.854806</td>\n",
              "      <td>-0.418415</td>\n",
              "      <td>-0.569314</td>\n",
              "      <td>-0.020514</td>\n",
              "      <td>0.0</td>\n",
              "      <td>-0.141331</td>\n",
              "      <td>0.0</td>\n",
              "      <td>-0.271757</td>\n",
              "      <td>-0.324496</td>\n",
              "      <td>-0.022490</td>\n",
              "      <td>-0.180636</td>\n",
              "      <td>-0.431731</td>\n",
              "      <td>-0.460004</td>\n",
              "      <td>-0.331915</td>\n",
              "      <td>-0.159769</td>\n",
              "      <td>-0.619352</td>\n",
              "      <td>-0.647060</td>\n",
              "    </tr>\n",
              "    <tr>\n",
              "      <th>4</th>\n",
              "      <td>0.605537</td>\n",
              "      <td>-0.639539</td>\n",
              "      <td>-0.621581</td>\n",
              "      <td>-0.323399</td>\n",
              "      <td>-0.397184</td>\n",
              "      <td>-0.203132</td>\n",
              "      <td>-0.119438</td>\n",
              "      <td>0.298911</td>\n",
              "      <td>1.151207</td>\n",
              "      <td>-0.353352</td>\n",
              "      <td>2.308071</td>\n",
              "      <td>0.462418</td>\n",
              "      <td>-0.299271</td>\n",
              "      <td>0.552727</td>\n",
              "      <td>-0.454469</td>\n",
              "      <td>1.461713</td>\n",
              "      <td>0.800007</td>\n",
              "      <td>-0.299135</td>\n",
              "      <td>-0.020514</td>\n",
              "      <td>0.0</td>\n",
              "      <td>-0.141331</td>\n",
              "      <td>0.0</td>\n",
              "      <td>2.351404</td>\n",
              "      <td>2.135213</td>\n",
              "      <td>-0.022490</td>\n",
              "      <td>-0.180636</td>\n",
              "      <td>1.326336</td>\n",
              "      <td>1.212825</td>\n",
              "      <td>-0.331915</td>\n",
              "      <td>-0.159769</td>\n",
              "      <td>-0.067581</td>\n",
              "      <td>-0.176051</td>\n",
              "    </tr>\n",
              "  </tbody>\n",
              "</table>\n",
              "</div>"
            ],
            "text/plain": [
              "        aon  daily_decr30  ...  payback30  payback90\n",
              "0 -0.753989     -0.126467  ...   6.238367   5.206904\n",
              "1  0.132221      1.475220  ...  -0.619352  -0.647060\n",
              "2 -0.224277     -0.419187  ...  -0.619352  -0.647060\n",
              "3 -0.816426     -0.662396  ...  -0.619352  -0.647060\n",
              "4  0.605537     -0.639539  ...  -0.067581  -0.176051\n",
              "\n",
              "[5 rows x 32 columns]"
            ]
          },
          "metadata": {
            "tags": []
          },
          "execution_count": 47
        }
      ]
    },
    {
      "cell_type": "code",
      "metadata": {
        "id": "Md4DOPjzRTBo"
      },
      "source": [
        "#function for determining random state\n",
        "def random(alg):\n",
        "    r_state=0\n",
        "    for r_score in range(43,100):\n",
        "        x_train,x_test,y_train,y_test=train_test_split(x,y,test_size=0.33,random_state=r_score)\n",
        "        alg.fit(x_train,y_train)\n",
        "        pred=alg.predict(x_test)\n",
        "        accuracy=accuracy_score(y_test,pred)\n",
        "        if accuracy > r_state:\n",
        "            r_state=accuracy\n",
        "            final_r=r_score\n",
        "    print(r_state,'at',final_r)"
      ],
      "execution_count": 48,
      "outputs": []
    },
    {
      "cell_type": "code",
      "metadata": {
        "id": "mLc5H9MORf8Y"
      },
      "source": [
        "#roc_curve\n",
        "def roc(alg):\n",
        "    y_pred_prob=alg.predict_proba(x_test)[:,1]\n",
        "    fpr,tpr,thresholds=roc_curve(y_test,y_pred_prob)\n",
        "    plt.plot([0,1],[0,1],'k--')\n",
        "    plt.plot(fpr,tpr)\n",
        "    plt.xlabel('false_Positive_rate')\n",
        "    plt.ylabel('True positive rate')\n",
        "    plt.title(alg)\n",
        "    plt.show()\n",
        "    roc_score=roc_auc_score(y_test,alg.predict(x_test))\n",
        "    print('roc_auc_score=',roc_score)"
      ],
      "execution_count": 49,
      "outputs": []
    },
    {
      "cell_type": "markdown",
      "metadata": {
        "id": "iHt0DUdY1wB2"
      },
      "source": [
        "Logistic Regression"
      ]
    },
    {
      "cell_type": "code",
      "metadata": {
        "id": "1W199EylTRBV",
        "outputId": "aa7894d1-0daa-44a1-a2d2-e0b6496946ee",
        "colab": {
          "base_uri": "https://localhost:8080/"
        }
      },
      "source": [
        "from sklearn.linear_model import LogisticRegression\n",
        "lr=LogisticRegression()\n",
        "random(lr)"
      ],
      "execution_count": 50,
      "outputs": [
        {
          "output_type": "stream",
          "text": [
            "0.8672209293596577 at 55\n"
          ],
          "name": "stdout"
        }
      ]
    },
    {
      "cell_type": "code",
      "metadata": {
        "id": "AqNxRVNZTUec",
        "outputId": "3b2495d9-9ea0-4ba8-e04c-d6c920138346",
        "colab": {
          "base_uri": "https://localhost:8080/"
        }
      },
      "source": [
        "x_train,x_test,y_train,y_test=train_test_split(x,y,test_size=0.33,random_state=55)\n",
        "lr.fit(x_train,y_train)\n",
        "pred=lr.predict(x_test)\n",
        "score=lr.score(x_train,y_train)\n",
        "print('score=',score)\n",
        "print(accuracy_score(y_test,pred))\n",
        "print(confusion_matrix(y_test,pred))\n",
        "print(classification_report(y_test,pred))"
      ],
      "execution_count": 51,
      "outputs": [
        {
          "output_type": "stream",
          "text": [
            "score= 0.8628687107717622\n",
            "0.8672209293596577\n",
            "[[  680  6561]\n",
            " [  514 45529]]\n",
            "              precision    recall  f1-score   support\n",
            "\n",
            "           0       0.57      0.09      0.16      7241\n",
            "           1       0.87      0.99      0.93     46043\n",
            "\n",
            "    accuracy                           0.87     53284\n",
            "   macro avg       0.72      0.54      0.54     53284\n",
            "weighted avg       0.83      0.87      0.82     53284\n",
            "\n"
          ],
          "name": "stdout"
        }
      ]
    },
    {
      "cell_type": "code",
      "metadata": {
        "id": "r4EMVBd2_bST",
        "outputId": "996e20a6-cbbb-4314-d7ac-95caf361a60a",
        "colab": {
          "base_uri": "https://localhost:8080/",
          "height": 373
        }
      },
      "source": [
        "roc(lr)"
      ],
      "execution_count": 52,
      "outputs": [
        {
          "output_type": "display_data",
          "data": {
            "image/png": "[encoded data removed]",
            "text/plain": [
              "<Figure size 432x288 with 1 Axes>"
            ]
          },
          "metadata": {
            "tags": [],
            "needs_background": "light"
          }
        },
        {
          "output_type": "stream",
          "text": [
            "roc_auc_score= 0.5413731016822709\n"
          ],
          "name": "stdout"
        }
      ]
    },
    {
      "cell_type": "code",
      "metadata": {
        "id": "WWtkv55T2EiG"
      },
      "source": [
        "from sklearn.linear_model import Lasso\n",
        "ls=Lasso()\n",
        "alphavalues={'alpha':[1,0.1,0.01,0.001]}\n",
        "grid=GridSearchCV(estimator=ls,param_grid=alphavalues)"
      ],
      "execution_count": 53,
      "outputs": []
    },
    {
      "cell_type": "code",
      "metadata": {
        "id": "9o5W5Iln5Zez"
      },
      "source": [
        "x_train,x_test,y_train,y_test=train_test_split(x,y,test_size=.33,random_state=43)"
      ],
      "execution_count": 54,
      "outputs": []
    },
    {
      "cell_type": "code",
      "metadata": {
        "id": "O6NdfdgL6toT",
        "outputId": "51e136c9-18c7-4eff-ee6c-ca1dbc5b19b9",
        "colab": {
          "base_uri": "https://localhost:8080/"
        }
      },
      "source": [
        "grid.fit(x_train,y_train)\n",
        "print(grid.best_params_)"
      ],
      "execution_count": 55,
      "outputs": [
        {
          "output_type": "stream",
          "text": [
            "{'alpha': 0.001}\n"
          ],
          "name": "stdout"
        }
      ]
    },
    {
      "cell_type": "code",
      "metadata": {
        "id": "e8lkcBI462V-",
        "outputId": "ba158e72-cf45-4c64-d885-851a18eb731d",
        "colab": {
          "base_uri": "https://localhost:8080/"
        }
      },
      "source": [
        "ls=Lasso(alpha=0.001)\n",
        "ls.fit(x_train,y_train)\n",
        "ls.score(x_train,y_train)"
      ],
      "execution_count": 56,
      "outputs": [
        {
          "output_type": "execute_result",
          "data": {
            "text/plain": [
              "0.16518343308958205"
            ]
          },
          "metadata": {
            "tags": []
          },
          "execution_count": 56
        }
      ]
    },
    {
      "cell_type": "markdown",
      "metadata": {
        "id": "a7ePWrC27ZDb"
      },
      "source": [
        "From the above score of lasso,its not good to proceed with Lasso"
      ]
    },
    {
      "cell_type": "markdown",
      "metadata": {
        "id": "i_W7YFLp7hsJ"
      },
      "source": [
        "Applying Oversampling Techniques"
      ]
    },
    {
      "cell_type": "code",
      "metadata": {
        "id": "YGcc1Ae2wLLS"
      },
      "source": [
        "#splitting to train & test for oversampling\n",
        "x_train,x_test,y_train,y_test=train_test_split(x,y,test_size=0.33)"
      ],
      "execution_count": 57,
      "outputs": []
    },
    {
      "cell_type": "code",
      "metadata": {
        "id": "8c4NmG1V_jDR",
        "outputId": "57714125-229e-42a9-8588-e3fa1a823d63",
        "colab": {
          "base_uri": "https://localhost:8080/"
        }
      },
      "source": [
        "#applying imbalanced learn library modules\n",
        "from sklearn.ensemble import RandomForestClassifier\n",
        "from imblearn.over_sampling import RandomOverSampler\n",
        "\n",
        "os = RandomOverSampler(0.75)\n",
        "x_train_ns, y_train_ns = os.fit_sample(x_train, y_train)\n",
        "\n",
        "os_rf = RandomForestClassifier()\n",
        "os_rf.fit(x_train_ns, y_train_ns)"
      ],
      "execution_count": 58,
      "outputs": [
        {
          "output_type": "execute_result",
          "data": {
            "text/plain": [
              "RandomForestClassifier(bootstrap=True, ccp_alpha=0.0, class_weight=None,\n",
              "                       criterion='gini', max_depth=None, max_features='auto',\n",
              "                       max_leaf_nodes=None, max_samples=None,\n",
              "                       min_impurity_decrease=0.0, min_impurity_split=None,\n",
              "                       min_samples_leaf=1, min_samples_split=2,\n",
              "                       min_weight_fraction_leaf=0.0, n_estimators=100,\n",
              "                       n_jobs=None, oob_score=False, random_state=None,\n",
              "                       verbose=0, warm_start=False)"
            ]
          },
          "metadata": {
            "tags": []
          },
          "execution_count": 58
        }
      ]
    },
    {
      "cell_type": "code",
      "metadata": {
        "id": "4YtD0sHb_zOh",
        "outputId": "54652d86-01a7-46fc-84fb-35afe297547b",
        "colab": {
          "base_uri": "https://localhost:8080/"
        }
      },
      "source": [
        "y_pred = os_rf.predict(x_test)\n",
        "\n",
        "print('Confustion Matrix : \\n\\n', confusion_matrix(y_test,y_pred))\n",
        "print('\\n Accuracy Score : ',   accuracy_score(y_test,y_pred))\n",
        "print('\\n Classification Report : \\n \\n', classification_report(y_test,y_pred))"
      ],
      "execution_count": 59,
      "outputs": [
        {
          "output_type": "stream",
          "text": [
            "Confustion Matrix : \n",
            "\n",
            " [[ 4012  3338]\n",
            " [ 1782 44152]]\n",
            "\n",
            " Accuracy Score :  0.9039111177839502\n",
            "\n",
            " Classification Report : \n",
            " \n",
            "               precision    recall  f1-score   support\n",
            "\n",
            "           0       0.69      0.55      0.61      7350\n",
            "           1       0.93      0.96      0.95     45934\n",
            "\n",
            "    accuracy                           0.90     53284\n",
            "   macro avg       0.81      0.75      0.78     53284\n",
            "weighted avg       0.90      0.90      0.90     53284\n",
            "\n"
          ],
          "name": "stdout"
        }
      ]
    },
    {
      "cell_type": "code",
      "metadata": {
        "id": "OxujZKTxAER8",
        "outputId": "cbc1bd72-5ff2-4bbc-a537-b0786ddbdb5f",
        "colab": {
          "base_uri": "https://localhost:8080/",
          "height": 418
        }
      },
      "source": [
        "roc(os_rf)"
      ],
      "execution_count": 60,
      "outputs": [
        {
          "output_type": "display_data",
          "data": {
            "image/png": "[encoded data removed]",
            "text/plain": [
              "<Figure size 432x288 with 1 Axes>"
            ]
          },
          "metadata": {
            "tags": [],
            "needs_background": "light"
          }
        },
        {
          "output_type": "stream",
          "text": [
            "roc_auc_score= 0.753527773803822\n"
          ],
          "name": "stdout"
        }
      ]
    },
    {
      "cell_type": "markdown",
      "metadata": {
        "id": "_byPN1IG8HHZ"
      },
      "source": [
        "Here we get scores most specified for imbalanced dataset above to 0.55 and ROC score is also 0.75.This model also performs good as per this data."
      ]
    },
    {
      "cell_type": "markdown",
      "metadata": {
        "id": "Bl-9Olwl8cCV"
      },
      "source": [
        "SMOTETomek"
      ]
    },
    {
      "cell_type": "code",
      "metadata": {
        "id": "RKFs83PNAJrw",
        "outputId": "c5b8fa85-5009-4fc5-d014-5a0e506d9ea8",
        "colab": {
          "base_uri": "https://localhost:8080/"
        }
      },
      "source": [
        "from imblearn.combine import SMOTETomek\n",
        "\n",
        "smt = SMOTETomek(0.75)\n",
        "\n",
        "x_train_ns, y_train_ns = smt.fit_sample(x_train,y_train)\n",
        "smt_rf=RandomForestClassifier()\n",
        "smt_rf.fit(x_train_ns, y_train_ns)"
      ],
      "execution_count": 61,
      "outputs": [
        {
          "output_type": "execute_result",
          "data": {
            "text/plain": [
              "RandomForestClassifier(bootstrap=True, ccp_alpha=0.0, class_weight=None,\n",
              "                       criterion='gini', max_depth=None, max_features='auto',\n",
              "                       max_leaf_nodes=None, max_samples=None,\n",
              "                       min_impurity_decrease=0.0, min_impurity_split=None,\n",
              "                       min_samples_leaf=1, min_samples_split=2,\n",
              "                       min_weight_fraction_leaf=0.0, n_estimators=100,\n",
              "                       n_jobs=None, oob_score=False, random_state=None,\n",
              "                       verbose=0, warm_start=False)"
            ]
          },
          "metadata": {
            "tags": []
          },
          "execution_count": 61
        }
      ]
    },
    {
      "cell_type": "code",
      "metadata": {
        "id": "7SUEc4_2ATfM",
        "outputId": "f21f9a0b-b2a3-4bc7-940e-ed91865a2739",
        "colab": {
          "base_uri": "https://localhost:8080/"
        }
      },
      "source": [
        "y_pred = smt_rf.predict(x_test)\n",
        "\n",
        "print('Confustion Matrix : \\n\\n', confusion_matrix(y_test,y_pred))\n",
        "print('\\n Accuracy Score : ',   accuracy_score(y_test,y_pred))\n",
        "print('\\n Classification Report : \\n \\n', classification_report(y_test,y_pred))"
      ],
      "execution_count": 64,
      "outputs": [
        {
          "output_type": "stream",
          "text": [
            "Confustion Matrix : \n",
            "\n",
            " [[ 4425  2925]\n",
            " [ 2777 43157]]\n",
            "\n",
            " Accuracy Score :  0.8929885143757976\n",
            "\n",
            " Classification Report : \n",
            " \n",
            "               precision    recall  f1-score   support\n",
            "\n",
            "           0       0.61      0.60      0.61      7350\n",
            "           1       0.94      0.94      0.94     45934\n",
            "\n",
            "    accuracy                           0.89     53284\n",
            "   macro avg       0.78      0.77      0.77     53284\n",
            "weighted avg       0.89      0.89      0.89     53284\n",
            "\n"
          ],
          "name": "stdout"
        }
      ]
    },
    {
      "cell_type": "code",
      "metadata": {
        "id": "jsHIpX-QAaQ4",
        "outputId": "900da61d-2bda-47c5-9141-0965fdfa5c52",
        "colab": {
          "base_uri": "https://localhost:8080/",
          "height": 418
        }
      },
      "source": [
        "roc(smt_rf)"
      ],
      "execution_count": 65,
      "outputs": [
        {
          "output_type": "display_data",
          "data": {
            "image/png": "[encoded data removed]",
            "text/plain": [
              "<Figure size 432x288 with 1 Axes>"
            ]
          },
          "metadata": {
            "tags": [],
            "needs_background": "light"
          }
        },
        {
          "output_type": "stream",
          "text": [
            "roc_auc_score= 0.7707922547257245\n"
          ],
          "name": "stdout"
        }
      ]
    },
    {
      "cell_type": "markdown",
      "metadata": {
        "id": "M-346MKG91Lk"
      },
      "source": [
        "### Conclusion\n",
        "The best techniques to handle this dataset is:\n",
        "\n",
        "1.Random forest with oversampling\n",
        "\n",
        "2.SmoteTomek"
      ]
    }
  ]
}